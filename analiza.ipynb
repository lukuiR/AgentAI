{
 "cells": [
  {
   "cell_type": "code",
   "execution_count": 3,
   "id": "6619726b-ab85-48a5-bf61-40ed46c4f8b8",
   "metadata": {},
   "outputs": [
    {
     "name": "stderr",
     "output_type": "stream",
     "text": [
      "Matplotlib is building the font cache; this may take a moment.\n"
     ]
    },
    {
     "data": {
      "application/vnd.jupyter.widget-view+json": {
       "model_id": "61bb1d9a5e174baea2d39295efd1ffb0",
       "version_major": 2,
       "version_minor": 0
      },
      "text/plain": [
       "VBox(children=(HBox(children=(Dropdown(description='Ticker:', options=('AAPL', 'MSFT', 'TSLA', 'NVDA', 'SPY', …"
      ]
     },
     "metadata": {},
     "output_type": "display_data"
    }
   ],
   "source": [
    "import yfinance as yf\n",
    "import pandas as pd\n",
    "import plotly.graph_objs as go\n",
    "import matplotlib.pyplot as plt\n",
    "import ipywidgets as widgets\n",
    "from IPython.display import display, clear_output\n",
    "\n",
    "# Lista przykładowych spółek i ETF-ów\n",
    "TICKERS = ['AAPL', 'MSFT', 'TSLA', 'NVDA', 'SPY', 'QQQ', 'VTI', 'ARKK', 'VOO']\n",
    "\n",
    "# Widgety\n",
    "ticker_dropdown = widgets.Dropdown(\n",
    "    options=TICKERS,\n",
    "    value='AAPL',\n",
    "    description='Ticker:',\n",
    ")\n",
    "\n",
    "days_slider = widgets.IntSlider(\n",
    "    value=30,\n",
    "    min=5,\n",
    "    max=180,\n",
    "    step=5,\n",
    "    description='Dni:',\n",
    ")\n",
    "\n",
    "chart_type = widgets.ToggleButtons(\n",
    "    options=['Linia', 'Świeca'],\n",
    "    description='Wykres:',\n",
    ")\n",
    "\n",
    "run_button = widgets.Button(description=\"📊 Analizuj\")\n",
    "\n",
    "output = widgets.Output()\n",
    "\n",
    "# Główna funkcja analizy\n",
    "def analyze_stock(change=None):\n",
    "    with output:\n",
    "        clear_output()\n",
    "        symbol = ticker_dropdown.value\n",
    "        days = days_slider.value\n",
    "        interval = \"1d\"\n",
    "\n",
    "        data = yf.download(symbol, period=f\"{days}d\", interval=interval)\n",
    "\n",
    "        if data.empty:\n",
    "            print(\"Brak danych.\")\n",
    "            return\n",
    "\n",
    "        # Wykresy\n",
    "        if chart_type.value == 'Linia':\n",
    "            fig = go.Figure()\n",
    "            fig.add_trace(go.Scatter(x=data.index, y=data['Close'], name='Zamknięcie'))\n",
    "        else:\n",
    "            fig = go.Figure(data=[go.Candlestick(\n",
    "                x=data.index,\n",
    "                open=data['Open'],\n",
    "                high=data['High'],\n",
    "                low=data['Low'],\n",
    "                close=data['Close']\n",
    "            )])\n",
    "\n",
    "        fig.update_layout(title=f'{symbol} - Ostatnie {days} dni', xaxis_title='Data', yaxis_title='Cena (USD)')\n",
    "        fig.show()\n",
    "\n",
    "        # Statystyki\n",
    "        pct_change = (data['Close'][-1] - data['Close'][0]) / data['Close'][0] * 100\n",
    "        print(f\"\\n📈 Zmiana procentowa: {pct_change:.2f}%\")\n",
    "        print(f\"📅 Od: {data.index[0].date()}  Do: {data.index[-1].date()}\")\n",
    "        print(f\"🔻 Najniższa: {data['Close'].min():.2f} USD\")\n",
    "        print(f\"🔺 Najwyższa: {data['Close'].max():.2f} USD\")\n",
    "\n",
    "# Połączenie\n",
    "run_button.on_click(analyze_stock)\n",
    "\n",
    "dashboard = widgets.VBox([\n",
    "    widgets.HBox([ticker_dropdown, days_slider, chart_type]),\n",
    "    run_button,\n",
    "    output\n",
    "])\n",
    "\n",
    "display(dashboard)\n"
   ]
  },
  {
   "cell_type": "code",
   "execution_count": null,
   "id": "faacb5c7-e406-49c0-8301-bcf87808874f",
   "metadata": {},
   "outputs": [],
   "source": []
  }
 ],
 "metadata": {
  "kernelspec": {
   "display_name": "Python 3 (ipykernel)",
   "language": "python",
   "name": "python3"
  },
  "language_info": {
   "codemirror_mode": {
    "name": "ipython",
    "version": 3
   },
   "file_extension": ".py",
   "mimetype": "text/x-python",
   "name": "python",
   "nbconvert_exporter": "python",
   "pygments_lexer": "ipython3",
   "version": "3.13.5"
  }
 },
 "nbformat": 4,
 "nbformat_minor": 5
}
